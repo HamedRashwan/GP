{
 "cells": [
  {
   "cell_type": "code",
   "execution_count": 2,
   "metadata": {},
   "outputs": [
    {
     "name": "stdout",
     "output_type": "stream",
     "text": [
      "Question: \"please use the logo https://example.com/logo.png\"\n",
      "Predicted Answer: {\"home\":[{\"name\":\"navbar\",\"navbar_title\":null,\"navbar_logo\":\"https://www.logo.com/logo1\"},{\"name\":\"footer\",\"footer_title\":null,\"footer_logo\":\"https://www.logo.com/logo1\"}],\"contact\":[{\"name\":\"navbar\",\"navbar_title\":null,\"navbar_logo\":\"https://www.logo.com/logo1\"},{\"name\":\"footer\",\"footer_title\":null,\"footer_logo\":\"https://www.logo.com/logo1\"}]}\n",
      "\n",
      "Model accuracy: 16.67%\n"
     ]
    }
   ],
   "source": [
    "import pandas as pd\n",
    "from sklearn.feature_extraction.text import TfidfVectorizer\n",
    "from sklearn.pipeline import make_pipeline\n",
    "from sklearn.svm import LinearSVC\n",
    "from sklearn.model_selection import train_test_split\n",
    "from sklearn.metrics import accuracy_score\n",
    "import joblib\n",
    "\n",
    "# Load the dataset\n",
    "df = pd.read_csv(r'C:\\Users\\Hamed\\Downloads\\testmodel\\testmodel\\datasets.csv')\n",
    "\n",
    "# Split into features and target\n",
    "X = df[\"question\"]\n",
    "y = df[\"anwser\"]\n",
    "\n",
    "# Split the data into training and testing sets\n",
    "X_train, X_test, y_train, y_test = train_test_split(X, y, test_size=0.2, random_state=42)\n",
    "\n",
    "# Create a text processing and classification pipeline\n",
    "pipeline = make_pipeline(\n",
    "    TfidfVectorizer(),\n",
    "    LinearSVC()\n",
    ")\n",
    "\n",
    "# Train the model\n",
    "pipeline.fit(X_train, y_train)\n",
    "\n",
    "# Save the model to a file\n",
    "joblib.dump(pipeline, 'text_classification_model.joblib')\n",
    "\n",
    "# Function to take user input and predict immediately\n",
    "def get_and_predict_user_input():\n",
    "    user_questions = []\n",
    "    while True:\n",
    "        question = input(\"Enter a question (or type 'stop' to finish): \")\n",
    "        if question.lower() == 'stop':\n",
    "            break\n",
    "        user_questions.append(question)\n",
    "        # Predict answer for the current question\n",
    "        prediction = pipeline.predict([question])\n",
    "        print(f\"Question: {question}\\nPredicted Answer: {prediction[0]}\\n\")\n",
    "\n",
    "# Get questions from the user and predict\n",
    "get_and_predict_user_input()\n",
    "\n",
    "# Predict on the test set and calculate accuracy\n",
    "y_pred = pipeline.predict(X_test)\n",
    "accuracy = accuracy_score(y_test, y_pred)\n",
    "print(f\"Model accuracy: {accuracy * 100:.2f}%\")\n"
   ]
  },
  {
   "cell_type": "code",
   "execution_count": null,
   "metadata": {},
   "outputs": [],
   "source": []
  }
 ],
 "metadata": {
  "kernelspec": {
   "display_name": "Python 3",
   "language": "python",
   "name": "python3"
  },
  "language_info": {
   "codemirror_mode": {
    "name": "ipython",
    "version": 3
   },
   "file_extension": ".py",
   "mimetype": "text/x-python",
   "name": "python",
   "nbconvert_exporter": "python",
   "pygments_lexer": "ipython3",
   "version": "3.11.3"
  }
 },
 "nbformat": 4,
 "nbformat_minor": 2
}
